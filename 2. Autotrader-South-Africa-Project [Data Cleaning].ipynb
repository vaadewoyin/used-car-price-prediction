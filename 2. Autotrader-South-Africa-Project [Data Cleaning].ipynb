{
 "cells": [
  {
   "cell_type": "markdown",
   "id": "3ae914da",
   "metadata": {},
   "source": [
    "## Introduction\n",
    "\n",
    "`This notebook details the steps taken to clean the used car dataset that was scraped from Autotrader South Africa website. The dataset contains various features such as price, mileage, fuel type, and transmission type, among others. Before this dataset can be used for any analysis or modeling, it is important to perform some data cleaning tasks.`"
   ]
  },
  {
   "cell_type": "code",
   "execution_count": 1,
   "id": "021652c2",
   "metadata": {},
   "outputs": [],
   "source": [
    "#necessary imports \n",
    "import re\n",
    "import numpy as np\n",
    "import pandas as pd\n",
    "from sklearn.model_selection import train_test_split"
   ]
  },
  {
   "cell_type": "code",
   "execution_count": 2,
   "id": "1ea306b9",
   "metadata": {},
   "outputs": [],
   "source": [
    "#read data\n",
    "car_data=pd.read_csv('./autotrader-south-africa-cars-20230423.csv')"
   ]
  },
  {
   "cell_type": "code",
   "execution_count": 3,
   "id": "a8b5b9ab",
   "metadata": {},
   "outputs": [
    {
     "data": {
      "text/plain": [
       "(19675, 51)"
      ]
     },
     "execution_count": 3,
     "metadata": {},
     "output_type": "execute_result"
    }
   ],
   "source": [
    "#check data shape\n",
    "car_data.shape"
   ]
  },
  {
   "cell_type": "code",
   "execution_count": 4,
   "id": "30863ab6",
   "metadata": {},
   "outputs": [],
   "source": [
    "#extract relevant columns\n",
    "car_data=car_data[['Name', 'Price', 'Mileage', 'Transmission',\n",
    "       'Fuel Type', 'Previous Owners', 'Color', 'Body Type',\n",
    "       'Engine position', 'Engine capacity (litre)',\n",
    "       'Cylinder layout and quantity',  'Fuel capacity',\n",
    "       'Fuel consumption (average) **', 'Fuel range (average)',\n",
    "       'Power maximum (detail)', 'Torque maximum', 'Acceleration 0-100 km/h',\n",
    "       'Maximum/top speed', 'CO2 emissions (average)', 'Front tyres','Rear tyres',\n",
    "       'Driven wheels','Seats (quantity)', 'No of doors']]"
   ]
  },
  {
   "cell_type": "code",
   "execution_count": 5,
   "id": "33757055",
   "metadata": {},
   "outputs": [],
   "source": [
    "#make copy of car_data\n",
    "data=car_data.copy()"
   ]
  },
  {
   "cell_type": "code",
   "execution_count": 6,
   "id": "2daa21c5",
   "metadata": {},
   "outputs": [
    {
     "name": "stdout",
     "output_type": "stream",
     "text": [
      "<class 'pandas.core.frame.DataFrame'>\n",
      "RangeIndex: 19675 entries, 0 to 19674\n",
      "Data columns (total 24 columns):\n",
      " #   Column                         Non-Null Count  Dtype  \n",
      "---  ------                         --------------  -----  \n",
      " 0   Name                           19675 non-null  object \n",
      " 1   Price                          19675 non-null  object \n",
      " 2   Mileage                        19675 non-null  object \n",
      " 3   Transmission                   19675 non-null  object \n",
      " 4   Fuel Type                      19675 non-null  object \n",
      " 5   Previous Owners                19675 non-null  object \n",
      " 6   Color                          19663 non-null  object \n",
      " 7   Body Type                      19671 non-null  object \n",
      " 8   Engine position                19517 non-null  object \n",
      " 9   Engine capacity (litre)        19631 non-null  object \n",
      " 10  Cylinder layout and quantity   19526 non-null  object \n",
      " 11  Fuel capacity                  19518 non-null  object \n",
      " 12  Fuel consumption (average) **  19135 non-null  object \n",
      " 13  Fuel range (average)           19103 non-null  object \n",
      " 14  Power maximum (detail)         19563 non-null  object \n",
      " 15  Torque maximum                 19562 non-null  object \n",
      " 16  Acceleration 0-100 km/h        12587 non-null  object \n",
      " 17  Maximum/top speed              15526 non-null  object \n",
      " 18  CO2 emissions (average)        19197 non-null  object \n",
      " 19  Front tyres                    19560 non-null  object \n",
      " 20  Rear tyres                     19543 non-null  object \n",
      " 21  Driven wheels                  19675 non-null  object \n",
      " 22  Seats (quantity)               19513 non-null  float64\n",
      " 23  No of doors                    19675 non-null  int64  \n",
      "dtypes: float64(1), int64(1), object(22)\n",
      "memory usage: 3.6+ MB\n"
     ]
    }
   ],
   "source": [
    "#have a fresh look at data\n",
    "data.info()"
   ]
  },
  {
   "cell_type": "code",
   "execution_count": 7,
   "id": "1f07c520",
   "metadata": {},
   "outputs": [
    {
     "data": {
      "text/html": [
       "<div>\n",
       "<style scoped>\n",
       "    .dataframe tbody tr th:only-of-type {\n",
       "        vertical-align: middle;\n",
       "    }\n",
       "\n",
       "    .dataframe tbody tr th {\n",
       "        vertical-align: top;\n",
       "    }\n",
       "\n",
       "    .dataframe thead th {\n",
       "        text-align: right;\n",
       "    }\n",
       "</style>\n",
       "<table border=\"1\" class=\"dataframe\">\n",
       "  <thead>\n",
       "    <tr style=\"text-align: right;\">\n",
       "      <th></th>\n",
       "      <th>Name</th>\n",
       "      <th>Price</th>\n",
       "      <th>Mileage</th>\n",
       "      <th>Transmission</th>\n",
       "      <th>Fuel Type</th>\n",
       "      <th>Previous Owners</th>\n",
       "      <th>Color</th>\n",
       "      <th>Body Type</th>\n",
       "      <th>Engine position</th>\n",
       "      <th>Engine capacity (litre)</th>\n",
       "      <th>...</th>\n",
       "      <th>Power maximum (detail)</th>\n",
       "      <th>Torque maximum</th>\n",
       "      <th>Acceleration 0-100 km/h</th>\n",
       "      <th>Maximum/top speed</th>\n",
       "      <th>CO2 emissions (average)</th>\n",
       "      <th>Front tyres</th>\n",
       "      <th>Rear tyres</th>\n",
       "      <th>Driven wheels</th>\n",
       "      <th>Seats (quantity)</th>\n",
       "      <th>No of doors</th>\n",
       "    </tr>\n",
       "  </thead>\n",
       "  <tbody>\n",
       "    <tr>\n",
       "      <th>0</th>\n",
       "      <td>2019 BMW X3 xDrive20d xLine For Sale</td>\n",
       "      <td>R 559 000</td>\n",
       "      <td>83 356 km</td>\n",
       "      <td>Automatic</td>\n",
       "      <td>Diesel</td>\n",
       "      <td>Unknown</td>\n",
       "      <td>White</td>\n",
       "      <td>SUV</td>\n",
       "      <td>Front</td>\n",
       "      <td>2L</td>\n",
       "      <td>...</td>\n",
       "      <td>140 kW</td>\n",
       "      <td>400 Nm</td>\n",
       "      <td>8,1 s</td>\n",
       "      <td>210 km/h</td>\n",
       "      <td>131 g/km</td>\n",
       "      <td>245/50 R18 (opt 245/45 R19)</td>\n",
       "      <td>NaN</td>\n",
       "      <td>All Wheel Drive</td>\n",
       "      <td>5.0</td>\n",
       "      <td>5</td>\n",
       "    </tr>\n",
       "    <tr>\n",
       "      <th>1</th>\n",
       "      <td>2022 Toyota Agya 1.0 For Sale</td>\n",
       "      <td>R 159 900</td>\n",
       "      <td>44 110 km</td>\n",
       "      <td>Manual</td>\n",
       "      <td>Petrol</td>\n",
       "      <td>1</td>\n",
       "      <td>Silver</td>\n",
       "      <td>Hatchback</td>\n",
       "      <td>Front</td>\n",
       "      <td>1L</td>\n",
       "      <td>...</td>\n",
       "      <td>49 kW</td>\n",
       "      <td>89 Nm</td>\n",
       "      <td>14,6 s</td>\n",
       "      <td>165 km/h</td>\n",
       "      <td>112 g/km</td>\n",
       "      <td>175/65 R14</td>\n",
       "      <td>175/65 R14</td>\n",
       "      <td>Front Wheel Drive</td>\n",
       "      <td>5.0</td>\n",
       "      <td>5</td>\n",
       "    </tr>\n",
       "    <tr>\n",
       "      <th>2</th>\n",
       "      <td>2023 Volkswagen Polo Vivo Hatch 1.4 Trendline ...</td>\n",
       "      <td>R 259 900</td>\n",
       "      <td>5 500 km</td>\n",
       "      <td>Manual</td>\n",
       "      <td>Petrol</td>\n",
       "      <td>Unknown</td>\n",
       "      <td>REFLEX SILVER METALL</td>\n",
       "      <td>Hatchback</td>\n",
       "      <td>Front</td>\n",
       "      <td>1.4L</td>\n",
       "      <td>...</td>\n",
       "      <td>55 kW</td>\n",
       "      <td>130 Nm</td>\n",
       "      <td>NaN</td>\n",
       "      <td>171 km/h</td>\n",
       "      <td>134 g/km</td>\n",
       "      <td>185/60 R14 (opt 185/60 R15)</td>\n",
       "      <td>185/60 R14 (opt 185/60 R15)</td>\n",
       "      <td>Front Wheel Drive</td>\n",
       "      <td>5.0</td>\n",
       "      <td>5</td>\n",
       "    </tr>\n",
       "  </tbody>\n",
       "</table>\n",
       "<p>3 rows × 24 columns</p>\n",
       "</div>"
      ],
      "text/plain": [
       "                                                Name      Price    Mileage  \\\n",
       "0               2019 BMW X3 xDrive20d xLine For Sale  R 559 000  83 356 km   \n",
       "1                      2022 Toyota Agya 1.0 For Sale  R 159 900  44 110 km   \n",
       "2  2023 Volkswagen Polo Vivo Hatch 1.4 Trendline ...  R 259 900   5 500 km   \n",
       "\n",
       "  Transmission Fuel Type Previous Owners                 Color  Body Type  \\\n",
       "0    Automatic    Diesel         Unknown                 White        SUV   \n",
       "1       Manual    Petrol               1                Silver  Hatchback   \n",
       "2       Manual    Petrol         Unknown  REFLEX SILVER METALL  Hatchback   \n",
       "\n",
       "  Engine position Engine capacity (litre)  ... Power maximum (detail)  \\\n",
       "0           Front                      2L  ...                 140 kW   \n",
       "1           Front                      1L  ...                  49 kW   \n",
       "2           Front                    1.4L  ...                  55 kW   \n",
       "\n",
       "  Torque maximum Acceleration 0-100 km/h Maximum/top speed  \\\n",
       "0         400 Nm                   8,1 s          210 km/h   \n",
       "1          89 Nm                  14,6 s          165 km/h   \n",
       "2         130 Nm                     NaN          171 km/h   \n",
       "\n",
       "  CO2 emissions (average)                  Front tyres  \\\n",
       "0                131 g/km  245/50 R18 (opt 245/45 R19)   \n",
       "1                112 g/km                   175/65 R14   \n",
       "2                134 g/km  185/60 R14 (opt 185/60 R15)   \n",
       "\n",
       "                    Rear tyres      Driven wheels Seats (quantity) No of doors  \n",
       "0                          NaN    All Wheel Drive              5.0           5  \n",
       "1                   175/65 R14  Front Wheel Drive              5.0           5  \n",
       "2  185/60 R14 (opt 185/60 R15)  Front Wheel Drive              5.0           5  \n",
       "\n",
       "[3 rows x 24 columns]"
      ]
     },
     "execution_count": 7,
     "metadata": {},
     "output_type": "execute_result"
    }
   ],
   "source": [
    "#check first 3 rows\n",
    "data.head(3)"
   ]
  },
  {
   "cell_type": "markdown",
   "id": "12872c3e",
   "metadata": {},
   "source": [
    "### Data Cleaning\n"
   ]
  },
  {
   "cell_type": "markdown",
   "id": "2e9fb491",
   "metadata": {},
   "source": [
    "`From observing the data, it can be seen that many columns have inappropriate data type, hence the data types will be change to appropriate data type. Also, the various units of the columns will be removed and all other necessary cleaning will be done such as removing wrong values, removing inappropriate whitespaces between text,correcting wrong inputs where possible etc.`"
   ]
  },
  {
   "cell_type": "code",
   "execution_count": 8,
   "id": "b7e38189",
   "metadata": {},
   "outputs": [],
   "source": [
    "#clean columns\n",
    "\n",
    "#remove units\n",
    "some_cols_with_units=['Mileage','Fuel range (average)','Power maximum (detail)',\n",
    "                      'Torque maximum','Maximum/top speed','CO2 emissions (average)']\n",
    "\n",
    "for i in some_cols_with_units:\n",
    "    data[i]=data[i].str.strip('sNkmkW/km/hg').str.replace(' ','')\n",
    "    \n",
    "#apply unit in price\n",
    "data['Price']=data['Price'].str.strip('R').str.replace(' ','')\n",
    "\n",
    "#remove unit in engine capacity(litre) column\n",
    "data['Engine capacity (litre)']=data['Engine capacity (litre)'].str.strip('L')\n",
    "\n",
    "#remove unit in Acceleration 0-100 km/h column\n",
    "data['Acceleration 0-100 km/h']=data['Acceleration 0-100 km/h'].str.strip('s').str.replace(',','.')\n",
    "\n",
    "#remove unit and clean Fuel consumption (average) column\n",
    "data['Fuel consumption (average) **']=data['Fuel consumption (average) **'].str.strip('/100km').str.replace(',','.').str.strip()"
   ]
  },
  {
   "cell_type": "markdown",
   "id": "5bdd579c",
   "metadata": {},
   "source": [
    "`various units were removed from the columns so that columns can be represented in numeric form for analysis and modelling.`"
   ]
  },
  {
   "cell_type": "code",
   "execution_count": 9,
   "id": "f43af66f",
   "metadata": {},
   "outputs": [],
   "source": [
    "#clean Name columns\n",
    "data['Name']=data['Name'].str.split('For Sale').str.get(0).str.strip(' ')"
   ]
  },
  {
   "cell_type": "code",
   "execution_count": 10,
   "id": "52828d49",
   "metadata": {},
   "outputs": [],
   "source": [
    "# Replace \"n/a\" with NaN\n",
    "data.replace('n/a', np.nan, inplace=True)\n",
    "data.replace('n/a ', np.nan, inplace=True)"
   ]
  },
  {
   "cell_type": "markdown",
   "id": "bab72f35",
   "metadata": {},
   "source": [
    "`The n/a values in the dataframe are properly represented in the dataset as missing values as they represent missing values`"
   ]
  },
  {
   "cell_type": "code",
   "execution_count": 11,
   "id": "737b7206",
   "metadata": {},
   "outputs": [],
   "source": [
    "#remove rows with price values of POA\n",
    "to_drop=(data[data['Price'].str.contains('p',case=False)]).index\n",
    "data.drop(index=to_drop,inplace=True)"
   ]
  },
  {
   "cell_type": "markdown",
   "id": "5c28ff9c",
   "metadata": {},
   "source": [
    "`some values in price column were represented in the data as 'POA', since this is not clear, the rows containing this values were dropped since the number of these rows were small.`"
   ]
  },
  {
   "cell_type": "code",
   "execution_count": 12,
   "id": "784244c0",
   "metadata": {
    "scrolled": true
   },
   "outputs": [],
   "source": [
    "#clean color- drop wrong values\n",
    "to_drop=data.Color[data['Color'].str.len()<3].index\n",
    "data.drop(to_drop,inplace=True)\n",
    "\n",
    "#make all values uniform \n",
    "data['Color']=data['Color'].str.capitalize()"
   ]
  },
  {
   "cell_type": "markdown",
   "id": "3e36493f",
   "metadata": {},
   "source": [
    "`The color column has some inappropriate values like 'w','s', these values were dropped, also some values in the column whre in uppercase and some in lower case, all the values were capitalize just for uniformity sake.`"
   ]
  },
  {
   "cell_type": "code",
   "execution_count": 13,
   "id": "82f8dd92",
   "metadata": {},
   "outputs": [],
   "source": [
    "#clean Torque maximum\n",
    "to_drop=data[data['Torque maximum'].str.len()>3].index\n",
    "data.drop(to_drop,inplace=True)"
   ]
  },
  {
   "cell_type": "code",
   "execution_count": 14,
   "id": "12daa09a",
   "metadata": {},
   "outputs": [],
   "source": [
    "#clean Acceleration columns\n",
    "to_drop=data[data['Acceleration 0-100 km/h']=='#NAME?'].index\n",
    "data.drop(to_drop,inplace=True)\n",
    "\n",
    "#remove values with parenthesis\n",
    "data['Acceleration 0-100 km/h'] = data['Acceleration 0-100 km/h'].str.replace(r'\\(.*\\)', '', regex=True)"
   ]
  },
  {
   "cell_type": "markdown",
   "id": "22a8f1cc",
   "metadata": {},
   "source": [
    "`inappropriate values in Torque maximum and Acceleration 0-100 km/h columns were dropped.`"
   ]
  },
  {
   "cell_type": "code",
   "execution_count": 15,
   "id": "53c5df0e",
   "metadata": {
    "scrolled": false
   },
   "outputs": [],
   "source": [
    "#change C02 emissions value from electric to 0\n",
    "data['CO2 emissions (average)']=data['CO2 emissions (average)'].str.replace('electric','0')"
   ]
  },
  {
   "cell_type": "markdown",
   "id": "3c6ac187",
   "metadata": {},
   "source": [
    "`Most of the values in the CO2 emissions (average) are numeric, however, some were represented as electric, since in terms of tailpipe emissions, electric cars emit 0 g/km of CO2, CO2 emission values of electric will be assigned 0`"
   ]
  },
  {
   "cell_type": "code",
   "execution_count": 16,
   "id": "2bc7528a",
   "metadata": {},
   "outputs": [
    {
     "data": {
      "text/plain": [
       "array(['i4', 'i3', 'V8', 'i6', 'V6', nan, 'b6', 'i5', 'b4', 'i2', 'e',\n",
       "       'V10', 'V12', 'W12'], dtype=object)"
      ]
     },
     "execution_count": 16,
     "metadata": {},
     "output_type": "execute_result"
    }
   ],
   "source": [
    "#check cylinder layout unique values\n",
    "data['Cylinder layout and quantity'].unique()"
   ]
  },
  {
   "cell_type": "markdown",
   "id": "9012aaf3",
   "metadata": {},
   "source": [
    "`from the values above, e represents electric since electric cars don't have conventional cylinder layout`"
   ]
  },
  {
   "cell_type": "code",
   "execution_count": 17,
   "id": "6f020621",
   "metadata": {},
   "outputs": [],
   "source": [
    "#drop invalid entries for Fuel consumption (average)\n",
    "to_drop=data[(data['Fuel consumption (average) **']=='.0')].index\n",
    "data.drop(to_drop,inplace=True)\n",
    "\n",
    "#replace electric with 0\n",
    "data['Fuel consumption (average) **']=data['Fuel consumption (average) **'].str.replace('electric','0')"
   ]
  },
  {
   "cell_type": "code",
   "execution_count": 18,
   "id": "651d4e34",
   "metadata": {},
   "outputs": [],
   "source": [
    "#clean fuel range\n",
    "to_drop=data[(data['Fuel range (average)']=='#DIV/0!')].index\n",
    "data.drop(to_drop,inplace=True)\n",
    "\n",
    "#strip electric \n",
    "data['Fuel range (average)']=data['Fuel range (average)'].str.strip('electric')\n",
    "data['Fuel range (average)']=data['Fuel range (average)'].str.strip('inelectricmod')\n",
    "\n",
    "#remove values with parenthesis\n",
    "data['Fuel range (average)'] = data['Fuel range (average)'].str.replace(r'\\(.*\\)', '', regex=True)\n",
    "\n",
    "#remove text and symbol\n",
    "data['Fuel range (average)']=data['Fuel range (average)'].str.split('-').str.get(0)\n",
    "data['Fuel range (average)']=data['Fuel range (average)'].str.strip('upto')"
   ]
  },
  {
   "cell_type": "code",
   "execution_count": 19,
   "id": "03ec6c06",
   "metadata": {},
   "outputs": [],
   "source": [
    "#clean Power maximum (detail)\n",
    "to_strip=['electric','total','onoverboost','totaloutput']\n",
    "for i in to_strip:\n",
    "    data['Power maximum (detail)']=data['Power maximum (detail)'].str.strip(i)\n",
    "\n",
    "to_replace=['electricboost','total','engine','electric','output']\n",
    "for i in to_replace:\n",
    "    data['Power maximum (detail)']=data['Power maximum (detail)'].str.replace(i,'')\n",
    "    \n",
    "# Define a function to extract values\n",
    "def extract_value(s):\n",
    "    # Check if the value is NaN\n",
    "    if pd.isna(s):\n",
    "        return s\n",
    "    # Extract the value in parenthesis\n",
    "    match = re.search(r'\\((\\d+)\\)', s)\n",
    "    if match:\n",
    "        return match.group(1)\n",
    "    # Extract the value before the plus sign\n",
    "    match = re.search(r'^(\\d+)(?:\\+|\\()', s)\n",
    "    if match:\n",
    "        return match.group(1)\n",
    "    # Otherwise return the original value\n",
    "    return s\n",
    "\n",
    "# apply the function to each element of the column\n",
    "data['Power maximum (detail)']=data['Power maximum (detail)'].apply(extract_value)"
   ]
  },
  {
   "cell_type": "code",
   "execution_count": 20,
   "id": "b4d3c247",
   "metadata": {},
   "outputs": [],
   "source": [
    "#clean Fuel capacity\n",
    "\n",
    "#replace values with empty string\n",
    "to_replace=['opt','total']\n",
    "for i in to_replace:\n",
    "    data['Fuel capacity']=data['Fuel capacity'].str.replace(i,'')\n",
    "\n",
    "#replace values with value in parenthesis\n",
    "pattern = r'\\(( \\d+)\\)'\n",
    "extracted_values = data['Fuel capacity'].str.extract(pattern, expand=True)[0]\n",
    "data['Fuel capacity'] = extracted_values.fillna(data['Fuel capacity'])\n",
    "\n",
    "#remove trailing space\n",
    "data['Fuel capacity']=data['Fuel capacity'].str.strip()"
   ]
  },
  {
   "cell_type": "code",
   "execution_count": 21,
   "id": "4ce7a0ea",
   "metadata": {
    "scrolled": true
   },
   "outputs": [],
   "source": [
    "#clean Maximum/top speed column\n",
    "data['Maximum/top speed']=data['Maximum/top speed'].str.split('(').str.get(0)"
   ]
  },
  {
   "cell_type": "markdown",
   "id": "b43cdd10",
   "metadata": {},
   "source": [
    "`Some of the remaining columns which contained numeric values have some values with parenthesis,texts too and other wrong values, all these were properly handled and the columns were cleaned.`"
   ]
  },
  {
   "cell_type": "code",
   "execution_count": 22,
   "id": "36a6901f",
   "metadata": {},
   "outputs": [],
   "source": [
    "#extract features from name\n",
    "data['Year']=data['Name'].str.split(n=2).str.get(0)\n",
    "data['Brand']=data['Name'].str.split(n=2).str.get(1)\n",
    "data['Model']=data['Name'].str.split(n=2).str.get(2)\n",
    "\n",
    "#drop name column\n",
    "data.drop('Name',axis=1,inplace=True)"
   ]
  },
  {
   "cell_type": "markdown",
   "id": "a6e45fc7",
   "metadata": {},
   "source": [
    "`Brand, Model and Year columns were extracted from the name column and the name column was dropped. EXtracting these features will further enrich and help in analysis and modelling.`"
   ]
  },
  {
   "cell_type": "code",
   "execution_count": 23,
   "id": "0b8a1ae9",
   "metadata": {},
   "outputs": [],
   "source": [
    "#rearrange columns\n",
    "data=data[['Brand', 'Model','Year','Price','Mileage', 'Transmission',\n",
    "       'Fuel Type', 'Previous Owners', 'Color', 'Body Type', 'Engine position',\n",
    "       'Engine capacity (litre)', 'Cylinder layout and quantity',\n",
    "       'Seats (quantity)', 'No of doors','Front tyres', 'Rear tyres', 'Driven wheels',\n",
    "        'Fuel capacity', 'Fuel consumption (average) **',\n",
    "       'Fuel range (average)', 'Power maximum (detail)', 'Torque maximum',\n",
    "       'Acceleration 0-100 km/h', 'Maximum/top speed',\n",
    "       'CO2 emissions (average)']]\n",
    "          \n",
    "#rename column\n",
    "data.rename(columns={'Fuel consumption (average) **':'Fuel consumption (average)'},inplace=True)"
   ]
  },
  {
   "cell_type": "code",
   "execution_count": 24,
   "id": "6cd03e15",
   "metadata": {},
   "outputs": [],
   "source": [
    "#converts column data type to appropriate data type(numeric-float/int)\n",
    "cols_to_convert=['Price','Mileage','Engine capacity (litre)', 'Seats (quantity)', 'No of doors',\n",
    "      'Fuel capacity', 'Fuel consumption (average)', 'Fuel range (average)', \n",
    "      'Power maximum (detail)', 'Torque maximum','Acceleration 0-100 km/h', \n",
    "      'Maximum/top speed','CO2 emissions (average)']\n",
    "\n",
    "for col in cols_to_convert:\n",
    "    data[col]=data[col].astype('float')\n",
    "    \n",
    "data['Year'] = data['Year'].astype('int') "
   ]
  },
  {
   "cell_type": "code",
   "execution_count": 25,
   "id": "ffcdeb13",
   "metadata": {},
   "outputs": [
    {
     "name": "stdout",
     "output_type": "stream",
     "text": [
      "Number of duplicates before removal: 3047\n"
     ]
    }
   ],
   "source": [
    "#check and drop duplicates\n",
    "print('Number of duplicates before removal:', data.duplicated().sum())\n",
    "data.drop_duplicates(inplace=True)\n",
    "\n",
    "#reset_index\n",
    "data=data.reset_index(drop=True)"
   ]
  },
  {
   "cell_type": "markdown",
   "id": "e38bd6ae",
   "metadata": {},
   "source": [
    "`The columns were rearanged just to make similar features close to each other and the data types of the columns were changed to the appropriate data type, since most columns that are numeric in nature contains missing values, they were changed to float data type as float data type accomodate null values. The null values will be imputed during modelling as imputing null valus using entire data set can introduce data leakage subtly. Also, duplicate values were dropped.`"
   ]
  },
  {
   "cell_type": "code",
   "execution_count": 26,
   "id": "82c5a67a",
   "metadata": {},
   "outputs": [],
   "source": [
    "#create stratification variable: category form of 'Power maximum (detail)'\n",
    "data_=data.copy()\n",
    "data_['Power maximum category']=data_['Power maximum (detail)'].fillna(data_['Power maximum (detail)'].median())\n",
    "data_['Power maximum category']= pd.cut(data_['Power maximum category'],bins=[0,100,150, np.inf],labels=[1, 2, 3])"
   ]
  },
  {
   "cell_type": "markdown",
   "id": "683bb1ae",
   "metadata": {},
   "source": [
    "`Since the dataset is not large, less than 20k rows, stratified sampling based on the most correlated column with price was done to reduce the extent of sampling bias that was likely to happen with simple random sampling.The dataset is splitted into train and test set (Proportion- 70:30)`"
   ]
  },
  {
   "cell_type": "code",
   "execution_count": 27,
   "id": "b4116fe9",
   "metadata": {
    "scrolled": false
   },
   "outputs": [],
   "source": [
    "#split data into train and test set\n",
    "random_state=40\n",
    "\n",
    "#split\n",
    "train,test=train_test_split(data_,test_size=0.3,random_state=random_state,stratify=data_['Power maximum category'])"
   ]
  },
  {
   "cell_type": "code",
   "execution_count": 28,
   "id": "06f84205",
   "metadata": {},
   "outputs": [],
   "source": [
    "#drop the stratification varaible 'Power maximum (detail)' in both sets since it is not needed again\n",
    "train.drop('Power maximum category',axis=1,inplace=True)\n",
    "test.drop('Power maximum category',axis=1,inplace=True)"
   ]
  },
  {
   "cell_type": "code",
   "execution_count": 29,
   "id": "3b845d30",
   "metadata": {},
   "outputs": [
    {
     "name": "stdout",
     "output_type": "stream",
     "text": [
      "Number of rows and columns in train set : (11519, 26)\n",
      "Number of rows and columns in test set : (4937, 26)\n"
     ]
    }
   ],
   "source": [
    "#train and test set details\n",
    "print('Number of rows and columns in train set :',train.shape)\n",
    "print('Number of rows and columns in test set :',test.shape)"
   ]
  },
  {
   "cell_type": "code",
   "execution_count": 30,
   "id": "e459fe79",
   "metadata": {
    "scrolled": true
   },
   "outputs": [],
   "source": [
    "#save train,test set and cleaned data to disk\n",
    "train.to_csv('./train.csv',index=False)\n",
    "test.to_csv('./test.csv',index=False)\n",
    "data.to_csv('./autotrader-south-africa-usedcars-data.csv',index=False)"
   ]
  }
 ],
 "metadata": {
  "kernelspec": {
   "display_name": "Python 3 (ipykernel)",
   "language": "python",
   "name": "python3"
  },
  "language_info": {
   "codemirror_mode": {
    "name": "ipython",
    "version": 3
   },
   "file_extension": ".py",
   "mimetype": "text/x-python",
   "name": "python",
   "nbconvert_exporter": "python",
   "pygments_lexer": "ipython3",
   "version": "3.9.12"
  }
 },
 "nbformat": 4,
 "nbformat_minor": 5
}
