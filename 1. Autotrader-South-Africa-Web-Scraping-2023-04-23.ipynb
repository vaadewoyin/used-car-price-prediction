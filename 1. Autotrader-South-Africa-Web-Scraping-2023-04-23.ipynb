{
 "cells": [
  {
   "cell_type": "markdown",
   "id": "b3285422-0e6e-493a-aeb7-087644d42198",
   "metadata": {},
   "source": [
    "## Introduction\n",
    "`This notebook provides a comprehensive overview of a web scraping project conducted on Autotrader South Africa's website between 23/04/23 and 24/04/23 using Python and Selenium framework. The goal of the project was to extract data on various used car models, the data  extracted includes car name, price, mileage, number of previous owners and car specifications.The scraped data was stored in a csv file for further analysis.`"
   ]
  },
  {
   "cell_type": "markdown",
   "id": "9db3582b-cb6a-421a-8d7a-efbdff70f9dc",
   "metadata": {},
   "source": [
    "### Necessary imports"
   ]
  },
  {
   "cell_type": "code",
   "execution_count": 1,
   "id": "52e76137-f3b3-4b44-9edc-44de5cf87bc7",
   "metadata": {
    "tags": []
   },
   "outputs": [],
   "source": [
    "#necessary imports\n",
    "import time\n",
    "from selenium import webdriver\n",
    "from selenium.webdriver.common.by import By\n",
    "from selenium.webdriver.chrome.service import Service\n",
    "from webdriver_manager.chrome import ChromeDriverManager\n",
    "from selenium.webdriver.support.wait import WebDriverWait\n",
    "from selenium.webdriver.support import expected_conditions as EC\n",
    "from selenium.common.exceptions import WebDriverException\n",
    "from selenium.webdriver.chrome.service import Service\n",
    "from selenium.webdriver.chrome.options import Options\n",
    "\n",
    "driver_path = '/usr/local/python/3.10.4/lib/python3.10/site-packages/chromedriver_autoinstaller/112/chromedriver'\n",
    "service = Service(driver_path)\n",
    "\n",
    "prefs = {\"profile.managed_default_content_settings.images\": 2,\n",
    "         \"profile.managed_default_content_settings.javascript\": 2,\n",
    "         #\"profile.managed_default_content_settings.cookies\": 2,\n",
    "         \"profile.managed_default_content_settings.plugins\": 1,\n",
    "         \"profile.managed_default_content_settings.popups\": 2,\n",
    "         \"profile.managed_default_content_settings.geolocation\": 2,\n",
    "         \"profile.managed_default_content_settings.media_stream\": 2,\n",
    "         \"profile.managed_default_content_settings.notifications\": 2}\n",
    "\n",
    "options = webdriver.ChromeOptions()\n",
    "options.add_argument('--headless')\n",
    "options.add_argument('--no-sandbox')\n",
    "options.add_argument('--disable-dev-shm-usage')\n",
    "options.add_experimental_option('prefs', prefs)\n",
    "\n",
    "driver = webdriver.Chrome(service=service, options=options)\n"
   ]
  },
  {
   "cell_type": "markdown",
   "id": "7d21a33e-4af5-4e35-8cf7-41454b598dea",
   "metadata": {},
   "source": [
    "### Autotrader web scraping"
   ]
  },
  {
   "cell_type": "code",
   "execution_count": 2,
   "id": "46c4f18f-1353-4812-abce-7f6d31252a4d",
   "metadata": {
    "tags": []
   },
   "outputs": [],
   "source": [
    "#helper function\n",
    "def convert_to_dict(x):\n",
    "    #converts a list to dictionary in the form index0:index1...\n",
    "    item = iter(x)\n",
    "    converted_dict = dict(zip(item, item))\n",
    "    return converted_dict"
   ]
  },
  {
   "cell_type": "code",
   "execution_count": 3,
   "id": "41c21c1e-885b-487a-85b1-e1d2792e22b0",
   "metadata": {
    "tags": []
   },
   "outputs": [
    {
     "name": "stdout",
     "output_type": "stream",
     "text": [
      "Scraping done\n",
      "Number of scraped cars : 2574\n",
      "CPU times: user 2min, sys: 6.03 s, total: 2min 6s\n",
      "Wall time: 1h 18min 37s\n"
     ]
    }
   ],
   "source": [
    "%%time\n",
    "#list to store each car's scraped data\n",
    "car_data=[]\n",
    "\n",
    "# go to link\n",
    "try:\n",
    "    url = 'https://www.autotrader.co.za/cars-for-sale?pagenumber=650&sortorder=Newest&year=2018-to-2023&isused=True&priceoption=RetailPrice'\n",
    "    driver.get(url)\n",
    "    #click cookie button \n",
    "    driver.find_element(By.XPATH, '//*[@id=\"cookieBanner\"]/div/div/div/button[2]').click()\n",
    "\n",
    "except WebDriverException as e:\n",
    "     print('Incorrect url: The website could not be loaded or some other WebDriver related error occurred')\n",
    "\n",
    "else:\n",
    "    \n",
    "    for i in range(1,100): #to loop over 100 pages\n",
    "        #get all car links on web page\n",
    "        car_links=[]\n",
    "        wait = WebDriverWait(driver, 2)\n",
    "        car_tile=wait.until(EC.visibility_of_element_located((By.CLASS_NAME,'b-result-tiles')))\n",
    "        search='po=1' #to isolate car links from other links\n",
    "        for i in car_tile.find_elements(By.TAG_NAME,'a'):\n",
    "            try:\n",
    "                href = i.get_attribute('href')\n",
    "                if href and search in href:\n",
    "                    car_links.append(href)\n",
    "            except StaleElementReferenceException:\n",
    "                time.sleep(1)  # wait for the element to become available again before retrying\n",
    "\n",
    "        #navigate to each car's individual page\n",
    "        for link in car_links: \n",
    "            try:\n",
    "                #open new tab\n",
    "                driver.execute_script(\"window.open('');\")\n",
    "                # Switch to the new window and open new URL\n",
    "                driver.switch_to.window(driver.window_handles[1])\n",
    "                driver.get(link)\n",
    "            except:\n",
    "                #if error is encountered on the tab,close and return to first tab\n",
    "                driver.close()\n",
    "                driver.switch_to.window(driver.window_handles[0])\n",
    "                continue\n",
    "            else:\n",
    "                try:\n",
    "                    #wait 2 secs for page to load\n",
    "                    wait = WebDriverWait(driver, 2)\n",
    "                    #get car name \n",
    "                    car_name=wait.until(EC.visibility_of_element_located((By.CLASS_NAME,'e-listing-title')))\n",
    "                    car_name=car_name.text\n",
    "                    #get car price\n",
    "                    car_price=driver.find_element(By.CLASS_NAME,'e-price').text\n",
    "\n",
    "                    #get car details in top icon section\n",
    "                    car_details_1={}\n",
    "                    icon_elements=driver.find_elements(By.CLASS_NAME,'e-summary-icon')[1:]\n",
    "                    for i in icon_elements:\n",
    "                        car_details_1[(i.get_attribute('title'))]=(i.text)\n",
    "\n",
    "                    #get car details in Vehicle Details section\n",
    "                    car_details_2={}\n",
    "                    vehicle_details=driver.find_element(By.CLASS_NAME,'b-striped-specs').text.split('\\n')\n",
    "                    #make dictionary of extracted details\n",
    "                    for i in range(0, len(vehicle_details), 2):\n",
    "                        key = vehicle_details[i]\n",
    "                        value = vehicle_details[i+1]\n",
    "                        if 'owner' in key.lower():\n",
    "                            car_details_2['Previous Owners'] = value\n",
    "                        elif 'colour' in key.lower() or 'color' in key.lower():\n",
    "                            car_details_2['Color'] = value\n",
    "                        elif 'body' in key.lower():\n",
    "                            car_details_2[key] = value\n",
    "\n",
    "                    #scroll to specifications section to click all specification tab\n",
    "                    specification_section= driver.find_element(By.CLASS_NAME,'b-listing-specification')\n",
    "                    driver.execute_script(\"arguments[0].scrollIntoView();\", specification_section)\n",
    "\n",
    "                    #click all specification tab to display its info\n",
    "                    specs_tabs=driver.find_elements(By.CLASS_NAME,'e-accordion-header')\n",
    "                    for i in specs_tabs:\n",
    "                        i.click()\n",
    "                        driver.execute_script(\"window.scrollBy(0, 150)\")\n",
    "\n",
    "                    specs=[]\n",
    "                    car_details_3={}\n",
    "                    #extract car details under each specification tab\n",
    "                    specs_elements=driver.find_elements(By.CLASS_NAME,'e-accordion-body')\n",
    "                    for element in specs_elements:\n",
    "                        element=element.text.split('\\n')\n",
    "                        specs.append(element)\n",
    "                    #make dictionary of car details\n",
    "                    for i in specs:\n",
    "                        car_details_3.update(convert_to_dict(i))\n",
    "                except:\n",
    "                    #if error is encountered on a tab,close and return to first tab\n",
    "                    driver.close()\n",
    "                    driver.switch_to.window(driver.window_handles[0])\n",
    "                    continue\n",
    "\n",
    "                else:\n",
    "                    #join all extracted car details together in single dictionary \n",
    "                    car_details_combined={}\n",
    "                    car_details_combined['Name']=car_name\n",
    "                    car_details_combined['Price']=car_price\n",
    "                    car_details_combined.update(car_details_1)\n",
    "                    car_details_combined.update(car_details_2)\n",
    "                    car_details_combined.update(car_details_3)\n",
    "\n",
    "                    #append car_details_combined of car to car_data list\n",
    "                    car_data.append(car_details_combined)\n",
    "\n",
    "                    # Closing current tab\n",
    "                    driver.close()\n",
    "\n",
    "                    # Switching to old/main tab\n",
    "                    driver.switch_to.window(driver.window_handles[0])\n",
    "\n",
    "        #click next page link\n",
    "        driver.find_element(By.CLASS_NAME,'gm-float-right.e-pagination-link').click()\n",
    "        time.sleep(2)\n",
    "\n",
    "print('Scraping done')\n",
    "print('Number of scraped cars :',len(car_data))"
   ]
  },
  {
   "cell_type": "markdown",
   "id": "557e4ca1-a0ef-4977-b4cb-04c790beffdc",
   "metadata": {},
   "source": [
    "### Save data"
   ]
  },
  {
   "cell_type": "code",
   "execution_count": 4,
   "id": "267edb84-784c-4797-a155-d2a486995181",
   "metadata": {
    "tags": []
   },
   "outputs": [],
   "source": [
    "#export to dataframe\n",
    "import pandas as pd\n",
    "df=pd.DataFrame(car_data)"
   ]
  },
  {
   "cell_type": "code",
   "execution_count": 5,
   "id": "67017537-03a1-4594-a35d-eca29b625a7b",
   "metadata": {
    "tags": []
   },
   "outputs": [],
   "source": [
    "#save to disk\n",
    "df.to_csv('./Downloads/autotrader-south-africa-cars-20230423.csv')"
   ]
  }
 ],
 "metadata": {
  "kernelspec": {
   "display_name": "Python 3 (ipykernel)",
   "language": "python",
   "name": "python3"
  },
  "language_info": {
   "codemirror_mode": {
    "name": "ipython",
    "version": 3
   },
   "file_extension": ".py",
   "mimetype": "text/x-python",
   "name": "python",
   "nbconvert_exporter": "python",
   "pygments_lexer": "ipython3",
   "version": "3.9.16"
  }
 },
 "nbformat": 4,
 "nbformat_minor": 5
}
